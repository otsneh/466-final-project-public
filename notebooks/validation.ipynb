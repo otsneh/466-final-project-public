{
 "cells": [
  {
   "cell_type": "code",
   "execution_count": 1,
   "metadata": {},
   "outputs": [],
   "source": [
    "import pandas as pd\n",
    "import numpy as np\n",
    "import scipy.linalg as la\n",
    "import matplotlib.pyplot as plt\n",
    "import argparse\n",
    "import pickle\n",
    "from tqdm import tqdm\n",
    "from scipy.special import logsumexp\n",
    "from scipy.stats import multivariate_normal"
   ]
  },
  {
   "cell_type": "code",
   "execution_count": 2,
   "metadata": {},
   "outputs": [],
   "source": [
    "test_data = pd.read_csv('alsfrs_test.csv', index_col=0)"
   ]
  },
  {
   "cell_type": "code",
   "execution_count": 3,
   "metadata": {},
   "outputs": [],
   "source": [
    "class CTHMM:\n",
    "    def __init__(self, n_states, n_dim):\n",
    "        self.n_states = n_states\n",
    "        self.log_pi = np.log(np.ones((self.n_states)) / self.n_states)\n",
    "        self.log_P = {}\n",
    "        self.n_pid = 0\n",
    "        self.log_likelihoods = None\n",
    "        \n",
    "        # init R\n",
    "        self.R = -np.eye(self.n_states)\n",
    "        self.R[-1, -1] = 0\n",
    "        for i in range(self.n_states - 1):\n",
    "            self.R[i,i+1:] = 1 / (self.R[i+1:].shape[0])\n",
    "        \n",
    "        self.n_dim = n_dim\n",
    "        \n",
    "        # init emission matrix\n",
    "        self.emission_matrix = np.zeros((2, self.n_states, self.n_dim))\n",
    "        self.emission_matrix[0, :, :] = 2\n",
    "        self.emission_matrix[1, :, :] = .5\n",
    "        self.emission_matrix[0, 0, :] = 4\n",
    "        self.emission_matrix[0, -1, :] = 0\n",
    "\n",
    "    def EM_step(self, data):\n",
    "        ### E Step ###\n",
    "        \n",
    "        self.n_pid = data['subject_id'].unique().shape[0]\n",
    "        \n",
    "        log_pi_update = np.zeros((self.n_states))\n",
    "        weighted_means = np.log(np.zeros((self.n_states, self.n_dim)))\n",
    "\n",
    "        unique_intervals = data['delta_t'].unique()\n",
    "        C = np.zeros((unique_intervals.shape[0], self.n_states, self.n_states))\n",
    "        interval_map = {}\n",
    "        \n",
    "        total_weight_assgn = np.log(np.zeros((self.n_states)))\n",
    "        \n",
    "        for pid, pdata in tqdm(data.groupby('subject_id')):\n",
    "            obs = pdata.drop(['subject_id', 'ALSFRS_Delta', 'delta_t', 'ALSFRS_Total'], axis=1).values\n",
    "            intervals = pdata['delta_t'].values\n",
    "\n",
    "            alpha = self.forward(obs, intervals)\n",
    "            beta = self.backward(obs, intervals)\n",
    "\n",
    "            LL = logsumexp((alpha[:, -1] + beta[:, -1]))\n",
    "            \n",
    "            for idx, t_delta in enumerate(intervals[1:]):\n",
    "                if t_delta not in interval_map:\n",
    "                    interval_map[t_delta] = len(interval_map.keys())\n",
    "                log_P = self.log_transition_matrix(t_delta)\n",
    "                log_emission = self.log_emission(obs[idx + 1, :])\n",
    "                for src in range(self.n_states):\n",
    "                    for dest in range(self.n_states):\n",
    "                        C[interval_map[t_delta], src, dest] = logsumexp([C[interval_map[t_delta], src, dest], alpha[src, idx], log_P[src, dest],\n",
    "                                                                     beta[dest, idx + 1], log_emission[dest]])\n",
    "\n",
    "            log_pi_update = logsumexp([log_pi_update, alpha[:, 0] + beta[:, 0] - LL], axis=0)\n",
    "            log_weights = np.zeros(alpha.shape)\n",
    "            for t in range(log_weights.shape[1]):\n",
    "                log_weights[:,t] = alpha[:,t] + beta[:,t] - logsumexp(alpha[:,t] + beta[:,t])  # M x T\n",
    "            for i in range(self.n_states):\n",
    "                for t in range(log_weights.shape[1]):\n",
    "                    for d in range(self.n_dim):\n",
    "                        weighted_means[i, d] = logsumexp([weighted_means[i,d], log_weights[i,t] + np.log(obs[t,d])])\n",
    "                    total_weight_assgn[i] = logsumexp([total_weight_assgn[i], log_weights[i,t]])\n",
    "#                     weighted_means[i, j] = np.e**(alpha + beta - LL) @ obs\n",
    "\n",
    "\n",
    "        ### M Step ###\n",
    "\n",
    "        # Update emission params\n",
    "        self.emission_matrix[0, 1:-1, :] = np.e**(weighted_means - total_weight_assgn[:, None])[1:-1, :]\n",
    "\n",
    "        # Update pi\n",
    "        self.log_pi = log_pi_update - logsumexp(log_pi_update)\n",
    "\n",
    "        # Updated R\n",
    "        A = np.zeros((self.n_states * 2, self.n_states * 2))\n",
    "        A[:self.n_states, :self.n_states] = self.R\n",
    "        A[self.n_states:, self.n_states:] = self.R\n",
    "\n",
    "        D = np.zeros((self.n_states, self.n_states, self.n_states))\n",
    "        tau = np.zeros((self.n_states))\n",
    "\n",
    "        N = np.zeros((self.n_states, self.n_states, self.n_states, self.n_states))\n",
    "        nu = np.zeros((self.n_states, self.n_states))\n",
    "        \n",
    "        C = np.e**(C) - 1\n",
    "        \n",
    "        for i in range(self.n_states):\n",
    "            A[i, self.n_states + i] = 1\n",
    "            for t_delta in unique_intervals:\n",
    "                if t_delta == 0:\n",
    "                    continue\n",
    "                D[i] = la.expm(A * t_delta)[:self.n_states, self.n_states:] /                           \\\n",
    "                       np.e**(self.log_transition_matrix(t_delta))\n",
    "                D = np.nan_to_num(D)\n",
    "                tau[i] += np.sum(C[interval_map[t_delta], :, :] * D[i, :, :])\n",
    "            A[i, self.n_states + i] = 0\n",
    "\n",
    "        for i in range(self.n_states):\n",
    "            for j in range(self.n_states):\n",
    "                A[i, self.n_states + j] = 1\n",
    "                for t_delta in unique_intervals:\n",
    "                    if t_delta == 0:\n",
    "                        continue\n",
    "                    N[i, j] = self.R[i, j] * la.expm(A * t_delta)[:self.n_states, self.n_states:] /        \\\n",
    "                           np.e**(self.log_transition_matrix(t_delta))\n",
    "                    N = np.nan_to_num(N)\n",
    "                    nu[i, j] += np.sum(C[interval_map[t_delta], :, :] * N[i, j, :, :])\n",
    "                A[i, self.n_states + j] = 0\n",
    "        \n",
    "        for i in range(self.n_states):\n",
    "            self.R[i, i+1:] = nu[i, i+1:] / tau[i]\n",
    "            self.R[i, i] = -np.sum(self.R[i, i+1:])\n",
    "            \n",
    "        self.log_P = {}\n",
    "\n",
    "\n",
    "    def log_transition_matrix(self, t_delta):\n",
    "        \"\"\"\n",
    "        Input:\n",
    "            t_delta scalar\n",
    "        Output:\n",
    "            P M x M\n",
    "        \"\"\"\n",
    "        if t_delta in self.log_P:\n",
    "            return self.log_P[t_delta]\n",
    "        \n",
    "        self.log_P[t_delta] = np.log(la.expm(self.R * t_delta))\n",
    "        \n",
    "\n",
    "        return self.log_P[t_delta]\n",
    "\n",
    "    def log_emission(self, observation):\n",
    "        \"\"\"\n",
    "            Input: D x 1\n",
    "            Output: M x 1\n",
    "        \"\"\"\n",
    "        b = np.ndarray(self.n_states, dtype=float)\n",
    "        for i in range(self.n_states):\n",
    "            means = self.emission_matrix[0, i]\n",
    "            covariance = np.diag(self.emission_matrix[1, i])\n",
    "            b[i] = multivariate_normal.logpdf(observation, means, covariance)\n",
    "        return b\n",
    "\n",
    "    def forward(self, obs, intervals):\n",
    "        \"\"\"\n",
    "        Input:\n",
    "            obs T x D\n",
    "            intervals T\n",
    "            n_states scalar\n",
    "        Output:\n",
    "            alpha M x T\n",
    "        \"\"\"\n",
    "        T = obs.shape[0]\n",
    "        alpha = np.zeros((self.n_states, T))\n",
    "\n",
    "        alpha[:, 0] = self.log_pi + self.log_emission(obs[0, :])\n",
    "        tmp = np.zeros((self.n_states))\n",
    "\n",
    "        for idx, t_delta in enumerate(intervals[1:]):\n",
    "            log_B = self.log_emission(obs[idx + 1, :])\n",
    "            log_P = self.log_transition_matrix(t_delta)\n",
    "\n",
    "            for dest in range(self.n_states):\n",
    "                for src in range(self.n_states):\n",
    "                    tmp[src] = alpha[src, idx] + log_P[src, dest]\n",
    "\n",
    "                alpha[dest, idx + 1] = log_B[dest] + logsumexp(tmp)\n",
    "\n",
    "        return alpha\n",
    "\n",
    "    def backward(self, observations, time_intervals):\n",
    "        T = observations.shape[0]\n",
    "        beta = np.zeros((self.n_states, T), dtype=float)\n",
    "        for t in range(T - 2, -1, -1):\n",
    "            a = self.log_transition_matrix(time_intervals[t])\n",
    "            b = self.log_emission(observations[t + 1])\n",
    "            for i in range(self.n_states):\n",
    "                beta[i, t] = logsumexp([beta[j, t + 1] + a[i, j] + b[j] for j in range(self.n_states)])\n",
    "\n",
    "        return beta\n",
    "\n",
    "    def update_pi(self, alpha, beta):\n",
    "        self.log_pi = alpha[0, :] + beta[0, :]\n",
    "\n",
    "    def log_likelihood(self, data):\n",
    "        total = 0\n",
    "        for pid, pdata in data.groupby('subject_id'):\n",
    "            obs = pdata.drop(['subject_id', 'ALSFRS_Delta', 'delta_t', 'ALSFRS_Total'], axis=1).values\n",
    "            intervals = pdata['delta_t'].values\n",
    "\n",
    "            alpha = self.forward(obs, intervals)\n",
    "            total += logsumexp(alpha[-1])\n",
    "\n",
    "        return total\n",
    "\n",
    "    def save(self, filename):\n",
    "        pickle.dump(self, open(filename, 'wb'))\n",
    "\n",
    "    @classmethod\n",
    "    def load(cls, filename):\n",
    "        return pickle.load(open(filename, 'rb'))"
   ]
  },
  {
   "cell_type": "code",
   "execution_count": 4,
   "metadata": {},
   "outputs": [],
   "source": [
    "def train(model, training_data, n_epochs, save_epochs=None, save_filename=None, plot_filename=None):\n",
    "    should_save = (save_epochs is not None) and (save_filename is not None)\n",
    "    log_likelihoods = np.ndarray(n_epochs, dtype=float)\n",
    "    for epoch in tqdm(range(n_epochs)):\n",
    "        model.EM_step(training_data)\n",
    "        log_likelihood = model.log_likelihood(training_data)\n",
    "        log_likelihoods[epoch] = log_likelihood\n",
    "\n",
    "        if should_save and ((epoch + 1) % save_epochs == 0):\n",
    "            model.save(save_filename)\n",
    "    \n",
    "    model.log_likelihoods = log_likelihoods\n",
    "    if should_save:\n",
    "        model.save(save_filename)\n",
    "\n",
    "    plt.scatter(range(1,n_epochs+1), log_likelihoods)\n",
    "    plt.xlabel('epoch')\n",
    "    plt.ylabel('log likelihood')\n",
    "    plt.title('model training')\n",
    "\n",
    "    if plot_filename is not None:\n",
    "        plt.savefig(plot_filename)\n",
    "\n",
    "    plt.show()"
   ]
  },
  {
   "cell_type": "code",
   "execution_count": 5,
   "metadata": {},
   "outputs": [],
   "source": [
    "model = CTHMM.load('big_model.pickle')"
   ]
  },
  {
   "cell_type": "code",
   "execution_count": 6,
   "metadata": {},
   "outputs": [
    {
     "data": {
      "text/plain": [
       "<__main__.CTHMM at 0x1a168f5978>"
      ]
     },
     "execution_count": 6,
     "metadata": {},
     "output_type": "execute_result"
    }
   ],
   "source": [
    "model"
   ]
  },
  {
   "cell_type": "code",
   "execution_count": 7,
   "metadata": {},
   "outputs": [],
   "source": [
    "def err(a, b):\n",
    "    return abs(a.sum() - b.sum()) / b.sum()\n",
    "\n",
    "def test(model, test_data):\n",
    "    results = []\n",
    "    for pid, pdata in tqdm(test_data.groupby('subject_id')):\n",
    "        obs = pdata.drop(['subject_id', 'ALSFRS_Delta', 'delta_t', 'ALSFRS_Total'], axis=1).values\n",
    "        intervals = pdata['delta_t'].values\n",
    "        \n",
    "        if pdata.shape[0] == 1 or obs[-1].sum() == 0:\n",
    "            continue\n",
    "        \n",
    "        log_state_dist = model.forward(obs[:-1], intervals[:-1])[:,-1]\n",
    "        state_dist = np.exp(log_state_dist - logsumexp(log_state_dist))\n",
    "        \n",
    "        out_state_dist = state_dist @ la.expm(model.R * intervals[-1])\n",
    "        \n",
    "        out_emissions = np.ndarray((out_state_dist.shape[0], obs.shape[1]))\n",
    "        for i in range(out_state_dist.shape[0]):\n",
    "            # weighted\n",
    "            out_emissions[i] = out_state_dist[i] * model.emission_matrix[0,i]\n",
    "        \n",
    "        out_obs = np.array([out_emissions[:,i].sum() for i in range(out_emissions.shape[1])])\n",
    "        \n",
    "        # out_total = out_obs.sum()\n",
    "        # final_total = pdata.iloc[-1]['ALSFRS_Total']\n",
    "        \n",
    "        mse = err(out_obs, obs[-1])\n",
    "        results.append((out_obs, obs[-1], mse))\n",
    "    \n",
    "    return np.array(results)"
   ]
  },
  {
   "cell_type": "code",
   "execution_count": 8,
   "metadata": {},
   "outputs": [
    {
     "name": "stderr",
     "output_type": "stream",
     "text": [
      "100%|██████████| 1302/1302 [00:31<00:00, 35.21it/s]\n"
     ]
    }
   ],
   "source": [
    "results = test(model, test_data)\n",
    "errors = results[:,2]"
   ]
  },
  {
   "cell_type": "code",
   "execution_count": 9,
   "metadata": {},
   "outputs": [],
   "source": [
    "out_obs = results[:,0]\n",
    "true_obs = results[:,1]"
   ]
  },
  {
   "cell_type": "code",
   "execution_count": 10,
   "metadata": {},
   "outputs": [
    {
     "data": {
      "text/plain": [
       "0.33301709993890877"
      ]
     },
     "execution_count": 10,
     "metadata": {},
     "output_type": "execute_result"
    }
   ],
   "source": [
    "errors.mean()"
   ]
  },
  {
   "cell_type": "code",
   "execution_count": 11,
   "metadata": {},
   "outputs": [
    {
     "data": {
      "text/plain": [
       "0.6669829000610912"
      ]
     },
     "execution_count": 11,
     "metadata": {},
     "output_type": "execute_result"
    }
   ],
   "source": [
    "1 - errors.mean()"
   ]
  },
  {
   "cell_type": "code",
   "execution_count": 12,
   "metadata": {},
   "outputs": [
    {
     "data": {
      "text/plain": [
       "0.00042546064735997645"
      ]
     },
     "execution_count": 12,
     "metadata": {},
     "output_type": "execute_result"
    }
   ],
   "source": [
    "errors.min()"
   ]
  },
  {
   "cell_type": "code",
   "execution_count": 13,
   "metadata": {},
   "outputs": [],
   "source": [
    "def plot_bars(i):\n",
    "    x = np.array(list(range(len(out_obs[i])))) + 1\n",
    "    plt.figure()\n",
    "    plt.bar(x, true_obs[i], 0.2, color='blue', label='observed') # ground truth\n",
    "    plt.bar(x + 0.2, out_obs[i], 0.2, color='red', label='predicted') # our prediction\n",
    "    plt.ylim((0,5))\n",
    "    plt.xlabel('Questions')\n",
    "    plt.ylabel('Scores')\n",
    "    plt.title('Predicted vs. Observed Final Emissions')\n",
    "    plt.legend()\n",
    "    plt.savefig('results_{}'.format(i))\n",
    "    plt.show()"
   ]
  },
  {
   "cell_type": "code",
   "execution_count": 14,
   "metadata": {},
   "outputs": [
    {
     "data": {
      "image/png": "[encoded data removed]",
      "text/plain": [
       "<Figure size 432x288 with 1 Axes>"
      ]
     },
     "metadata": {
      "needs_background": "light"
     },
     "output_type": "display_data"
    },
    {
     "data": {
      "image/png": "[encoded data removed]",
      "text/plain": [
       "<Figure size 432x288 with 1 Axes>"
      ]
     },
     "metadata": {
      "needs_background": "light"
     },
     "output_type": "display_data"
    },
    {
     "data": {
      "image/png": "[encoded data removed]",
      "text/plain": [
       "<Figure size 432x288 with 1 Axes>"
      ]
     },
     "metadata": {
      "needs_background": "light"
     },
     "output_type": "display_data"
    },
    {
     "data": {
      "image/png": "[encoded data removed]",
      "text/plain": [
       "<Figure size 432x288 with 1 Axes>"
      ]
     },
     "metadata": {
      "needs_background": "light"
     },
     "output_type": "display_data"
    },
    {
     "data": {
      "image/png": "[encoded data removed]",
      "text/plain": [
       "<Figure size 432x288 with 1 Axes>"
      ]
     },
     "metadata": {
      "needs_background": "light"
     },
     "output_type": "display_data"
    }
   ],
   "source": [
    "for i in np.random.choice(len(errors), 5):\n",
    "    plot_bars(i)"
   ]
  },
  {
   "cell_type": "code",
   "execution_count": null,
   "metadata": {},
   "outputs": [],
   "source": []
  }
 ],
 "metadata": {
  "kernelspec": {
   "display_name": "Python 3.7",
   "language": "python",
   "name": "py37"
  },
  "language_info": {
   "codemirror_mode": {
    "name": "ipython",
    "version": 3
   },
   "file_extension": ".py",
   "mimetype": "text/x-python",
   "name": "python",
   "nbconvert_exporter": "python",
   "pygments_lexer": "ipython3",
   "version": "3.7.1"
  }
 },
 "nbformat": 4,
 "nbformat_minor": 2
}
