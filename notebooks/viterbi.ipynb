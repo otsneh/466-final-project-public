{
 "cells": [
  {
   "cell_type": "code",
   "execution_count": 13,
   "metadata": {},
   "outputs": [],
   "source": [
    "def viterbi(Observations, intervals,m):\n",
    "    \n",
    "    \n",
    "    # Set of states (copy numbers)\n",
    "    Q = m \n",
    "    # Initialization v[copy_number][bin] = 0\n",
    "    v = [ [ 0 for x in range(len(Observations))] for c in range(len(Q)) ]\n",
    "    bt = [ [ 0 for x in range(len(Observations))] for c in range(len(Q)) ]\n",
    "    for idx in range(len(Observations)):\n",
    "        obs = Observations[idx]\n",
    "#       TODO: insert code here\n",
    "        transition = initialLogProb(intervals[idx])\n",
    "        emission = emissionLogProb(obs)\n",
    "        transition = transpose(transition)\n",
    "        emission = transpose(emission)\n",
    "        \n",
    "        prev_q = 0;\n",
    "        prev_max = -np.inf; \n",
    "        if idx == 0:\n",
    "            v[idx] = emission+transition;\n",
    "        else:\n",
    "            for q in range(Q):\n",
    "                for s in range(Q):\n",
    "                    if((v[s][bins[idx-1]]+transitionLogProb(s,q))> prev_max):\n",
    "                        prev_max = (v[idx][s])\n",
    "                        prev_q = s  \n",
    "                v[idx] = emission[idx]+transitionLogProb(prev_q,q,intervals[idx])+(prev_max);\n",
    "                bt[idx] = prev_q;\n",
    "    return v,bt"
   ]
  },
  {
   "cell_type": "code",
   "execution_count": null,
   "metadata": {},
   "outputs": [],
   "source": []
  }
 ],
 "metadata": {
  "kernelspec": {
   "display_name": "Python 3",
   "language": "python",
   "name": "python3"
  },
  "language_info": {
   "codemirror_mode": {
    "name": "ipython",
    "version": 3
   },
   "file_extension": ".py",
   "mimetype": "text/x-python",
   "name": "python",
   "nbconvert_exporter": "python",
   "pygments_lexer": "ipython3",
   "version": "3.7.0"
  }
 },
 "nbformat": 4,
 "nbformat_minor": 2
}
